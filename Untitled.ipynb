{
 "cells": [
  {
   "cell_type": "code",
   "execution_count": 2,
   "metadata": {},
   "outputs": [
    {
     "data": {
      "text/html": [
       "<div>\n",
       "<style scoped>\n",
       "    .dataframe tbody tr th:only-of-type {\n",
       "        vertical-align: middle;\n",
       "    }\n",
       "\n",
       "    .dataframe tbody tr th {\n",
       "        vertical-align: top;\n",
       "    }\n",
       "\n",
       "    .dataframe thead th {\n",
       "        text-align: right;\n",
       "    }\n",
       "</style>\n",
       "<table border=\"1\" class=\"dataframe\">\n",
       "  <thead>\n",
       "    <tr style=\"text-align: right;\">\n",
       "      <th></th>\n",
       "      <th>Open</th>\n",
       "      <th>High</th>\n",
       "      <th>Low</th>\n",
       "      <th>Close</th>\n",
       "      <th>Adj Close</th>\n",
       "      <th>Volume</th>\n",
       "    </tr>\n",
       "    <tr>\n",
       "      <th>Date</th>\n",
       "      <th></th>\n",
       "      <th></th>\n",
       "      <th></th>\n",
       "      <th></th>\n",
       "      <th></th>\n",
       "      <th></th>\n",
       "    </tr>\n",
       "  </thead>\n",
       "  <tbody>\n",
       "    <tr>\n",
       "      <td>2016-05-01</td>\n",
       "      <td>206.919998</td>\n",
       "      <td>210.690002</td>\n",
       "      <td>202.779999</td>\n",
       "      <td>209.839996</td>\n",
       "      <td>190.879135</td>\n",
       "      <td>1828530900</td>\n",
       "    </tr>\n",
       "    <tr>\n",
       "      <td>2016-06-01</td>\n",
       "      <td>209.119995</td>\n",
       "      <td>212.520004</td>\n",
       "      <td>198.649994</td>\n",
       "      <td>209.479996</td>\n",
       "      <td>190.551666</td>\n",
       "      <td>2612406900</td>\n",
       "    </tr>\n",
       "    <tr>\n",
       "      <td>2016-07-01</td>\n",
       "      <td>209.479996</td>\n",
       "      <td>217.539993</td>\n",
       "      <td>207.059998</td>\n",
       "      <td>217.119995</td>\n",
       "      <td>198.528381</td>\n",
       "      <td>1648453700</td>\n",
       "    </tr>\n",
       "    <tr>\n",
       "      <td>2016-08-01</td>\n",
       "      <td>217.190002</td>\n",
       "      <td>219.600006</td>\n",
       "      <td>214.250000</td>\n",
       "      <td>217.380005</td>\n",
       "      <td>198.766159</td>\n",
       "      <td>1519703200</td>\n",
       "    </tr>\n",
       "    <tr>\n",
       "      <td>2016-09-01</td>\n",
       "      <td>217.369995</td>\n",
       "      <td>219.220001</td>\n",
       "      <td>212.309998</td>\n",
       "      <td>216.300003</td>\n",
       "      <td>197.778625</td>\n",
       "      <td>2292393000</td>\n",
       "    </tr>\n",
       "    <tr>\n",
       "      <td>...</td>\n",
       "      <td>...</td>\n",
       "      <td>...</td>\n",
       "      <td>...</td>\n",
       "      <td>...</td>\n",
       "      <td>...</td>\n",
       "      <td>...</td>\n",
       "    </tr>\n",
       "    <tr>\n",
       "      <td>2021-01-01</td>\n",
       "      <td>375.309998</td>\n",
       "      <td>385.850006</td>\n",
       "      <td>364.820007</td>\n",
       "      <td>370.070007</td>\n",
       "      <td>368.861908</td>\n",
       "      <td>1402376400</td>\n",
       "    </tr>\n",
       "    <tr>\n",
       "      <td>2021-02-01</td>\n",
       "      <td>373.720001</td>\n",
       "      <td>394.170013</td>\n",
       "      <td>370.380005</td>\n",
       "      <td>380.359985</td>\n",
       "      <td>379.118286</td>\n",
       "      <td>1307344500</td>\n",
       "    </tr>\n",
       "    <tr>\n",
       "      <td>2021-03-01</td>\n",
       "      <td>385.589996</td>\n",
       "      <td>398.119995</td>\n",
       "      <td>371.880005</td>\n",
       "      <td>396.329987</td>\n",
       "      <td>395.036163</td>\n",
       "      <td>2389752400</td>\n",
       "    </tr>\n",
       "    <tr>\n",
       "      <td>2021-04-01</td>\n",
       "      <td>398.399994</td>\n",
       "      <td>411.670013</td>\n",
       "      <td>398.179993</td>\n",
       "      <td>411.489990</td>\n",
       "      <td>411.489990</td>\n",
       "      <td>428064400</td>\n",
       "    </tr>\n",
       "    <tr>\n",
       "      <td>2021-04-09</td>\n",
       "      <td>408.390015</td>\n",
       "      <td>411.670013</td>\n",
       "      <td>408.260010</td>\n",
       "      <td>411.489990</td>\n",
       "      <td>411.489990</td>\n",
       "      <td>61200783</td>\n",
       "    </tr>\n",
       "  </tbody>\n",
       "</table>\n",
       "<p>61 rows × 6 columns</p>\n",
       "</div>"
      ],
      "text/plain": [
       "                  Open        High         Low       Close   Adj Close  \\\n",
       "Date                                                                     \n",
       "2016-05-01  206.919998  210.690002  202.779999  209.839996  190.879135   \n",
       "2016-06-01  209.119995  212.520004  198.649994  209.479996  190.551666   \n",
       "2016-07-01  209.479996  217.539993  207.059998  217.119995  198.528381   \n",
       "2016-08-01  217.190002  219.600006  214.250000  217.380005  198.766159   \n",
       "2016-09-01  217.369995  219.220001  212.309998  216.300003  197.778625   \n",
       "...                ...         ...         ...         ...         ...   \n",
       "2021-01-01  375.309998  385.850006  364.820007  370.070007  368.861908   \n",
       "2021-02-01  373.720001  394.170013  370.380005  380.359985  379.118286   \n",
       "2021-03-01  385.589996  398.119995  371.880005  396.329987  395.036163   \n",
       "2021-04-01  398.399994  411.670013  398.179993  411.489990  411.489990   \n",
       "2021-04-09  408.390015  411.670013  408.260010  411.489990  411.489990   \n",
       "\n",
       "                Volume  \n",
       "Date                    \n",
       "2016-05-01  1828530900  \n",
       "2016-06-01  2612406900  \n",
       "2016-07-01  1648453700  \n",
       "2016-08-01  1519703200  \n",
       "2016-09-01  2292393000  \n",
       "...                ...  \n",
       "2021-01-01  1402376400  \n",
       "2021-02-01  1307344500  \n",
       "2021-03-01  2389752400  \n",
       "2021-04-01   428064400  \n",
       "2021-04-09    61200783  \n",
       "\n",
       "[61 rows x 6 columns]"
      ]
     },
     "execution_count": 2,
     "metadata": {},
     "output_type": "execute_result"
    }
   ],
   "source": [
    "import pandas as pd \n",
    "import statsmodels.api as st\n",
    "\n",
    "google = pd.read_csv(\"GOOG.csv\")\n",
    "spy = pd.read_csv(\"SPY.csv\")\n",
    "\n",
    "google.set_index('Date')\n",
    "spy.set_index('Date')"
   ]
  },
  {
   "cell_type": "code",
   "execution_count": 3,
   "metadata": {},
   "outputs": [
    {
     "name": "stderr",
     "output_type": "stream",
     "text": [
      "C:\\Users\\m7md2\\Anaconda3\\lib\\site-packages\\numpy\\core\\fromnumeric.py:2389: FutureWarning: Method .ptp is deprecated and will be removed in a future version. Use numpy.ptp instead.\n",
      "  return ptp(axis=axis, out=out, **kwargs)\n"
     ]
    }
   ],
   "source": [
    "googPrice = google['Close'].pct_change(1)\n",
    "spyPrice = spy['Close'].pct_change(1)\n",
    "sp1 = st.add_constant(spyPrice)"
   ]
  },
  {
   "cell_type": "code",
   "execution_count": 4,
   "metadata": {},
   "outputs": [
    {
     "name": "stdout",
     "output_type": "stream",
     "text": [
      "                            OLS Regression Results                            \n",
      "==============================================================================\n",
      "Dep. Variable:                  Close   R-squared:                       0.504\n",
      "Model:                            OLS   Adj. R-squared:                  0.496\n",
      "Method:                 Least Squares   F-statistic:                     58.96\n",
      "Date:                Sun, 11 Apr 2021   Prob (F-statistic):           2.12e-10\n",
      "Time:                        21:44:01   Log-Likelihood:                 104.14\n",
      "No. Observations:                  60   AIC:                            -204.3\n",
      "Df Residuals:                      58   BIC:                            -200.1\n",
      "Df Model:                           1                                         \n",
      "Covariance Type:            nonrobust                                         \n",
      "==============================================================================\n",
      "                 coef    std err          t      P>|t|      [0.025      0.975]\n",
      "------------------------------------------------------------------------------\n",
      "const          0.0087      0.006      1.489      0.142      -0.003       0.020\n",
      "Close          0.9999      0.130      7.678      0.000       0.739       1.261\n",
      "==============================================================================\n",
      "Omnibus:                        2.669   Durbin-Watson:                   2.533\n",
      "Prob(Omnibus):                  0.263   Jarque-Bera (JB):                1.951\n",
      "Skew:                           0.425   Prob(JB):                        0.377\n",
      "Kurtosis:                       3.239   Cond. No.                         23.3\n",
      "==============================================================================\n",
      "\n",
      "Warnings:\n",
      "[1] Standard Errors assume that the covariance matrix of the errors is correctly specified.\n"
     ]
    }
   ],
   "source": [
    "googReg = st.OLS(googPrice.dropna(), sp1.dropna())\n",
    "gReg = googReg.fit()\n",
    "print(gReg.summary())\n",
    "\n",
    "betas = {\"Google\": 0.9999, \"Apple\": 1, \"General Motors\": 1, \"Tesla\": 1, \"Shell\": 1, \"Exxon\": 1}\n",
    "alphas = {\"Google\": 0.0087, \"Apple\": 1, \"General Motors\": 1, \"Tesla\": 1, \"Shell\": 1, \"Exxon\": 1}\n"
   ]
  },
  {
   "cell_type": "code",
   "execution_count": 5,
   "metadata": {},
   "outputs": [
    {
     "name": "stdout",
     "output_type": "stream",
     "text": [
      "                            OLS Regression Results                            \n",
      "==============================================================================\n",
      "Dep. Variable:                  Close   R-squared:                       0.390\n",
      "Model:                            OLS   Adj. R-squared:                  0.379\n",
      "Method:                 Least Squares   F-statistic:                     37.01\n",
      "Date:                Sun, 11 Apr 2021   Prob (F-statistic):           9.91e-08\n",
      "Time:                        21:44:02   Log-Likelihood:                 79.150\n",
      "No. Observations:                  60   AIC:                            -154.3\n",
      "Df Residuals:                      58   BIC:                            -150.1\n",
      "Df Model:                           1                                         \n",
      "Covariance Type:            nonrobust                                         \n",
      "==============================================================================\n",
      "                 coef    std err          t      P>|t|      [0.025      0.975]\n",
      "------------------------------------------------------------------------------\n",
      "const          0.0170      0.009      1.922      0.059      -0.001       0.035\n",
      "Close          1.2016      0.198      6.084      0.000       0.806       1.597\n",
      "==============================================================================\n",
      "Omnibus:                        5.538   Durbin-Watson:                   2.158\n",
      "Prob(Omnibus):                  0.063   Jarque-Bera (JB):                4.879\n",
      "Skew:                          -0.484   Prob(JB):                       0.0872\n",
      "Kurtosis:                       4.007   Cond. No.                         23.3\n",
      "==============================================================================\n",
      "\n",
      "Warnings:\n",
      "[1] Standard Errors assume that the covariance matrix of the errors is correctly specified.\n"
     ]
    }
   ],
   "source": [
    "apple = pd.read_csv(\"AAPL.csv\")\n",
    "apple.set_index('Date')\n",
    "\n",
    "applePrice = apple['Close'].pct_change(1)\n",
    "appReg = st.OLS(applePrice.dropna(), sp1.dropna()).fit()\n",
    "print(appReg.summary())\n",
    "betas[\"Apple\"] = 1.2016\n",
    "alphas[\"Apple\"] = 0.0170"
   ]
  },
  {
   "cell_type": "code",
   "execution_count": 6,
   "metadata": {},
   "outputs": [
    {
     "name": "stdout",
     "output_type": "stream",
     "text": [
      "                            OLS Regression Results                            \n",
      "==============================================================================\n",
      "Dep. Variable:                  Close   R-squared:                       0.391\n",
      "Model:                            OLS   Adj. R-squared:                  0.381\n",
      "Method:                 Least Squares   F-statistic:                     37.32\n",
      "Date:                Sun, 11 Apr 2021   Prob (F-statistic):           9.01e-08\n",
      "Time:                        21:44:03   Log-Likelihood:                 70.110\n",
      "No. Observations:                  60   AIC:                            -136.2\n",
      "Df Residuals:                      58   BIC:                            -132.0\n",
      "Df Model:                           1                                         \n",
      "Covariance Type:            nonrobust                                         \n",
      "==============================================================================\n",
      "                 coef    std err          t      P>|t|      [0.025      0.975]\n",
      "------------------------------------------------------------------------------\n",
      "const         -0.0015      0.010     -0.145      0.885      -0.022       0.019\n",
      "Close          1.4027      0.230      6.109      0.000       0.943       1.862\n",
      "==============================================================================\n",
      "Omnibus:                       11.189   Durbin-Watson:                   1.959\n",
      "Prob(Omnibus):                  0.004   Jarque-Bera (JB):               11.219\n",
      "Skew:                           0.936   Prob(JB):                      0.00366\n",
      "Kurtosis:                       3.991   Cond. No.                         23.3\n",
      "==============================================================================\n",
      "\n",
      "Warnings:\n",
      "[1] Standard Errors assume that the covariance matrix of the errors is correctly specified.\n"
     ]
    }
   ],
   "source": [
    "gm = pd.read_csv(\"GM.csv\")\n",
    "gm.set_index('Date')\n",
    "gmPrice = gm['Close'].pct_change(1)\n",
    "gmReg = st.OLS(gmPrice.dropna(), sp1.dropna()).fit()\n",
    "print(gmReg.summary())\n",
    "betas[\"General Motors\"] = (1.4027)\n",
    "alphas[\"General Motors\"] = (-0.0015)"
   ]
  },
  {
   "cell_type": "code",
   "execution_count": 7,
   "metadata": {},
   "outputs": [
    {
     "name": "stdout",
     "output_type": "stream",
     "text": [
      "                            OLS Regression Results                            \n",
      "==============================================================================\n",
      "Dep. Variable:                  Close   R-squared:                       0.198\n",
      "Model:                            OLS   Adj. R-squared:                  0.185\n",
      "Method:                 Least Squares   F-statistic:                     14.36\n",
      "Date:                Sun, 11 Apr 2021   Prob (F-statistic):           0.000361\n",
      "Time:                        21:44:03   Log-Likelihood:                 21.266\n",
      "No. Observations:                  60   AIC:                            -38.53\n",
      "Df Residuals:                      58   BIC:                            -34.34\n",
      "Df Model:                           1                                         \n",
      "Covariance Type:            nonrobust                                         \n",
      "==============================================================================\n",
      "                 coef    std err          t      P>|t|      [0.025      0.975]\n",
      "------------------------------------------------------------------------------\n",
      "const          0.0376      0.023      1.624      0.110      -0.009       0.084\n",
      "Close          1.9642      0.518      3.790      0.000       0.927       3.002\n",
      "==============================================================================\n",
      "Omnibus:                       15.849   Durbin-Watson:                   1.718\n",
      "Prob(Omnibus):                  0.000   Jarque-Bera (JB):               19.049\n",
      "Skew:                           1.097   Prob(JB):                     7.30e-05\n",
      "Kurtosis:                       4.676   Cond. No.                         23.3\n",
      "==============================================================================\n",
      "\n",
      "Warnings:\n",
      "[1] Standard Errors assume that the covariance matrix of the errors is correctly specified.\n"
     ]
    }
   ],
   "source": [
    "ts = pd.read_csv(\"TSLA.csv\")\n",
    "ts.set_index('Date')\n",
    "tsPrice = ts['Close'].pct_change(1)\n",
    "tsReg = st.OLS(tsPrice.dropna(), sp1.dropna()).fit()\n",
    "print(tsReg.summary())\n",
    "betas[\"Tesla\"] = (1.9642)\n",
    "alphas[\"Tesla\"] = (0.0376)"
   ]
  },
  {
   "cell_type": "code",
   "execution_count": 8,
   "metadata": {},
   "outputs": [
    {
     "name": "stdout",
     "output_type": "stream",
     "text": [
      "                            OLS Regression Results                            \n",
      "==============================================================================\n",
      "Dep. Variable:                  Close   R-squared:                       0.531\n",
      "Model:                            OLS   Adj. R-squared:                  0.523\n",
      "Method:                 Least Squares   F-statistic:                     65.58\n",
      "Date:                Sun, 11 Apr 2021   Prob (F-statistic):           4.19e-11\n",
      "Time:                        21:44:04   Log-Likelihood:                 88.003\n",
      "No. Observations:                  60   AIC:                            -172.0\n",
      "Df Residuals:                      58   BIC:                            -167.8\n",
      "Df Model:                           1                                         \n",
      "Covariance Type:            nonrobust                                         \n",
      "==============================================================================\n",
      "                 coef    std err          t      P>|t|      [0.025      0.975]\n",
      "------------------------------------------------------------------------------\n",
      "const         -0.0212      0.008     -2.783      0.007      -0.036      -0.006\n",
      "Close          1.3800      0.170      8.098      0.000       1.039       1.721\n",
      "==============================================================================\n",
      "Omnibus:                        6.832   Durbin-Watson:                   1.462\n",
      "Prob(Omnibus):                  0.033   Jarque-Bera (JB):                7.194\n",
      "Skew:                           0.484   Prob(JB):                       0.0274\n",
      "Kurtosis:                       4.393   Cond. No.                         23.3\n",
      "==============================================================================\n",
      "\n",
      "Warnings:\n",
      "[1] Standard Errors assume that the covariance matrix of the errors is correctly specified.\n"
     ]
    }
   ],
   "source": [
    "x = pd.read_csv(\"XOM.csv\")\n",
    "x.set_index('Date')\n",
    "xPrice = x['Close'].pct_change(1)\n",
    "xReg = st.OLS(xPrice.dropna(), sp1.dropna()).fit()\n",
    "print(xReg.summary())\n",
    "betas[\"Exxon\"] = (1.38)\n",
    "alphas[\"Exxon\"] = (-0.0212)"
   ]
  },
  {
   "cell_type": "code",
   "execution_count": 9,
   "metadata": {},
   "outputs": [
    {
     "name": "stdout",
     "output_type": "stream",
     "text": [
      "                            OLS Regression Results                            \n",
      "==============================================================================\n",
      "Dep. Variable:                  Close   R-squared:                       0.279\n",
      "Model:                            OLS   Adj. R-squared:                  0.267\n",
      "Method:                 Least Squares   F-statistic:                     22.48\n",
      "Date:                Sun, 11 Apr 2021   Prob (F-statistic):           1.42e-05\n",
      "Time:                        21:44:04   Log-Likelihood:                 74.908\n",
      "No. Observations:                  60   AIC:                            -145.8\n",
      "Df Residuals:                      58   BIC:                            -141.6\n",
      "Df Model:                           1                                         \n",
      "Covariance Type:            nonrobust                                         \n",
      "==============================================================================\n",
      "                 coef    std err          t      P>|t|      [0.025      0.975]\n",
      "------------------------------------------------------------------------------\n",
      "const         -0.0137      0.009     -1.440      0.155      -0.033       0.005\n",
      "Close          1.0051      0.212      4.742      0.000       0.581       1.429\n",
      "==============================================================================\n",
      "Omnibus:                        9.684   Durbin-Watson:                   1.630\n",
      "Prob(Omnibus):                  0.008   Jarque-Bera (JB):               10.349\n",
      "Skew:                           0.715   Prob(JB):                      0.00566\n",
      "Kurtosis:                       4.448   Cond. No.                         23.3\n",
      "==============================================================================\n",
      "\n",
      "Warnings:\n",
      "[1] Standard Errors assume that the covariance matrix of the errors is correctly specified.\n"
     ]
    }
   ],
   "source": [
    "s = pd.read_csv(\"RDS-B.csv\")\n",
    "s.set_index('Date')\n",
    "sPrice = s['Close'].pct_change(1)\n",
    "sReg = st.OLS(sPrice.dropna(), sp1.dropna()).fit()\n",
    "print(sReg.summary())\n",
    "betas[\"Shell\"] = (1.0051)\n",
    "alphas[\"Shell\"] = (-0.0137)"
   ]
  },
  {
   "cell_type": "code",
   "execution_count": 10,
   "metadata": {},
   "outputs": [
    {
     "data": {
      "text/plain": [
       "{'Google': 0.9999,\n",
       " 'Apple': 1.2016,\n",
       " 'General Motors': 1.4027,\n",
       " 'Tesla': 1.9642,\n",
       " 'Shell': 1.0051,\n",
       " 'Exxon': 1.38}"
      ]
     },
     "execution_count": 10,
     "metadata": {},
     "output_type": "execute_result"
    }
   ],
   "source": [
    "betas"
   ]
  },
  {
   "cell_type": "code",
   "execution_count": 11,
   "metadata": {},
   "outputs": [
    {
     "data": {
      "text/plain": [
       "{'Google': 0.9999,\n",
       " 'Apple': 1.2016,\n",
       " 'General Motors': 1.4027,\n",
       " 'Tesla': 1.9642,\n",
       " 'Shell': 1.0051,\n",
       " 'Exxon': 1.38}"
      ]
     },
     "execution_count": 11,
     "metadata": {},
     "output_type": "execute_result"
    }
   ],
   "source": [
    "actuals =  {\"Google\": 1, \"Apple\": 1, \"General Motors\": 1, \"Tesla\": 1, \"Shell\": 1, \"Exxon\": 1}\n",
    "actuals[\"Google\"] = 1\n",
    "actuals[\"Apple\"] = 1.22\n",
    "actuals[\"General Motors\"] = 1.39\n",
    "actuals[\"Tesla\"] = 2.01\n",
    "actuals[\"Shell\"] = 1.03\n",
    "actuals[\"Exxon\"] = 1.41\n",
    "betas"
   ]
  },
  {
   "cell_type": "code",
   "execution_count": 14,
   "metadata": {},
   "outputs": [
    {
     "data": {
      "image/png": "[encoded data removed]",
      "text/plain": [
       "<Figure size 648x432 with 1 Axes>"
      ]
     },
     "metadata": {
      "needs_background": "light"
     },
     "output_type": "display_data"
    }
   ],
   "source": [
    "import matplotlib.pylab as plt\n",
    "\n",
    "from pylab import rcParams\n",
    "rcParams['figure.figsize'] = 9,6\n",
    "\n",
    "plt.ylabel(\"Measured Beta\")\n",
    "plt.xlabel(\"Yahoo Finanace Beta\")\n",
    "\n",
    "for i in betas.keys():\n",
    "    plt.plot(actuals[i], betas[i], \"o\", label=i)\n",
    "\n",
    "plt.plot([0.5, 2.25],[0.5, 2.25], color='black', linewidth=1, linestyle='--')\n",
    "plt.legend(prop={\"size\":13})\n",
    "plt.show()"
   ]
  },
  {
   "cell_type": "code",
   "execution_count": 15,
   "metadata": {},
   "outputs": [
    {
     "data": {
      "image/png": "[encoded data removed]",
      "text/plain": [
       "<Figure size 648x432 with 1 Axes>"
      ]
     },
     "metadata": {
      "needs_background": "light"
     },
     "output_type": "display_data"
    }
   ],
   "source": [
    "plt.ylabel(\"Alpha\")\n",
    "plt.xlabel(\"Stock\")\n",
    "\n",
    "for i in betas.keys():\n",
    "    plt.plot(i, alphas[i], \"o\")\n",
    "    \n",
    "plt.axhline(y=0, color='red')\n",
    "plt.show()"
   ]
  },
  {
   "cell_type": "code",
   "execution_count": 16,
   "metadata": {},
   "outputs": [
    {
     "data": {
      "image/png": "[encoded data removed]",
      "text/plain": [
       "<Figure size 648x432 with 1 Axes>"
      ]
     },
     "metadata": {
      "needs_background": "light"
     },
     "output_type": "display_data"
    }
   ],
   "source": [
    "stocks = [google,s,x,ts,gm,apple]\n",
    "\n",
    "plt.xlabel(\"Market Monthly Return: SPY\")\n",
    "plt.ylabel(\"Stock Monthly Return\")\n",
    "\n",
    "plt.plot(google['Close'].pct_change(1).dropna(), spy['Close'].pct_change(1).dropna(), 'o', label = \"Google\")\n",
    "plt.plot(spy['Close'].pct_change(1), betas['Google']*(spy['Close'].pct_change(1)) + alphas['Google'], color = \"red\", label = \"CAPM Line\", linewidth = 3)\n",
    "plt.axhline( y = 0, color=\"grey\")\n",
    "plt.axvline( x = 0, color=\"grey\")\n",
    "plt.legend(prop={\"size\":20})\n",
    "plt.show()"
   ]
  },
  {
   "cell_type": "code",
   "execution_count": 26,
   "metadata": {},
   "outputs": [
    {
     "data": {
      "image/png": "[encoded data removed]",
      "text/plain": [
       "<Figure size 648x432 with 1 Axes>"
      ]
     },
     "metadata": {
      "needs_background": "light"
     },
     "output_type": "display_data"
    }
   ],
   "source": [
    "plt.xlabel(\"Market Monthly Return: SPY\")\n",
    "plt.ylabel(\"Stock Monthly Return\")\n",
    "\n",
    "plt.plot(apple['Close'].pct_change(1).dropna(), spy['Close'].pct_change(1).dropna(), 'o', label = \"Apple\")\n",
    "plt.plot(spy['Close'].pct_change(1), betas['Apple']*(spy['Close'].pct_change(1)) + alphas['Apple'], color = \"red\", label = \"CAPM Line\", linewidth = 3)\n",
    "plt.axhline( y = 0, color=\"grey\")\n",
    "plt.axvline( x = 0, color=\"grey\")\n",
    "plt.legend(prop={\"size\":13})\n",
    "plt.show()"
   ]
  },
  {
   "cell_type": "code",
   "execution_count": 27,
   "metadata": {},
   "outputs": [
    {
     "data": {
      "image/png": "[encoded data removed]",
      "text/plain": [
       "<Figure size 648x432 with 1 Axes>"
      ]
     },
     "metadata": {
      "needs_background": "light"
     },
     "output_type": "display_data"
    }
   ],
   "source": [
    "plt.xlabel(\"Market Monthly Return: SPY\")\n",
    "plt.ylabel(\"Stock Monthly Return\")\n",
    "\n",
    "plt.plot(gm['Close'].pct_change(1).dropna(), spy['Close'].pct_change(1).dropna(), 'o', label = \"General Motors\")\n",
    "plt.plot(spy['Close'].pct_change(1), betas['General Motors']*(spy['Close'].pct_change(1)) + alphas['General Motors'], color = \"red\", label = \"CAPM Line\", linewidth = 3)\n",
    "plt.axhline( y = 0, color=\"grey\")\n",
    "plt.axvline( x = 0, color=\"grey\")\n",
    "plt.legend(prop={\"size\":20})\n",
    "plt.show()"
   ]
  },
  {
   "cell_type": "code",
   "execution_count": 29,
   "metadata": {},
   "outputs": [
    {
     "data": {
      "image/png": "[encoded data removed]",
      "text/plain": [
       "<Figure size 648x432 with 1 Axes>"
      ]
     },
     "metadata": {
      "needs_background": "light"
     },
     "output_type": "display_data"
    }
   ],
   "source": [
    "plt.xlabel(\"Market Monthly Return: SPY\")\n",
    "plt.ylabel(\"Stock Monthly Return\")\n",
    "\n",
    "plt.plot(s['Close'].pct_change(1).dropna(), spy['Close'].pct_change(1).dropna(), 'o', label = \"Shell\")\n",
    "plt.plot(spy['Close'].pct_change(1), betas['Shell']*(spy['Close'].pct_change(1)) + alphas['Shell'], color = \"red\", label = \"CAPM Line\", linewidth = 3)\n",
    "plt.axhline( y = 0, color=\"grey\")\n",
    "plt.axvline( x = 0, color=\"grey\")\n",
    "plt.legend(prop={\"size\":18})\n",
    "plt.show()"
   ]
  },
  {
   "cell_type": "code",
   "execution_count": 30,
   "metadata": {},
   "outputs": [
    {
     "data": {
      "image/png": "[encoded data removed]",
      "text/plain": [
       "<Figure size 648x432 with 1 Axes>"
      ]
     },
     "metadata": {
      "needs_background": "light"
     },
     "output_type": "display_data"
    }
   ],
   "source": [
    "plt.xlabel(\"Market Monthly Return: SPY\")\n",
    "plt.ylabel(\"Stock Monthly Return\")\n",
    "\n",
    "plt.plot(x['Close'].pct_change(1).dropna(), spy['Close'].pct_change(1).dropna(), 'o', label = \"Exxon Mobile\")\n",
    "plt.plot(spy['Close'].pct_change(1), betas['Exxon']*(spy['Close'].pct_change(1)) + alphas['Exxon'], color = \"red\", label = \"CAPM Line\", linewidth = 3)\n",
    "plt.axhline( y = 0, color=\"grey\")\n",
    "plt.axvline( x = 0, color=\"grey\")\n",
    "plt.legend(prop={\"size\":18})\n",
    "plt.show()"
   ]
  },
  {
   "cell_type": "code",
   "execution_count": 31,
   "metadata": {},
   "outputs": [
    {
     "data": {
      "image/png": "[encoded data removed]",
      "text/plain": [
       "<Figure size 648x432 with 1 Axes>"
      ]
     },
     "metadata": {
      "needs_background": "light"
     },
     "output_type": "display_data"
    }
   ],
   "source": [
    "plt.xlabel(\"Market Monthly Return: SPY\")\n",
    "plt.ylabel(\"Stock Monthly Return\")\n",
    "\n",
    "plt.plot(ts['Close'].pct_change(1).dropna(), spy['Close'].pct_change(1).dropna(), 'o', label = \"Tesla\")\n",
    "plt.plot(spy['Close'].pct_change(1), betas['Tesla']*(spy['Close'].pct_change(1)) + alphas['Tesla'], color = \"red\", label = \"CAPM Line\", linewidth = 3)\n",
    "plt.axhline( y = 0, color=\"grey\")\n",
    "plt.axvline( x = 0, color=\"grey\")\n",
    "plt.legend(prop={\"size\":18})\n",
    "plt.show()"
   ]
  },
  {
   "cell_type": "code",
   "execution_count": null,
   "metadata": {},
   "outputs": [],
   "source": [
    "import numpy as np\n",
    "import matplotlib.dates as md\n",
    "import matplotlib.dates as mdates\n"
   ]
  },
  {
   "cell_type": "code",
   "execution_count": null,
   "metadata": {},
   "outputs": [],
   "source": [
    "from datetime import datetime, timedelta\n",
    "\n",
    "dates = np.arange(datetime(2016,5,1), datetime(2021,7,1), timedelta(days=31)).astype(datetime)\n",
    "len(dates)\n",
    "betas"
   ]
  },
  {
   "cell_type": "code",
   "execution_count": null,
   "metadata": {},
   "outputs": [],
   "source": [
    "fig, axs = plt.subplots()\n",
    "from pylab import rcParams\n",
    "rcParams['figure.figsize'] = 13,10\n",
    "for i in stocks:\n",
    "    title = \"\"\n",
    "    if i.equals(google) == True:\n",
    "        title = \"Google\"\n",
    "    elif i.equals(apple) == True:\n",
    "        title = \"Apple\"\n",
    "    elif i.equals(ts) == True:\n",
    "        title = \"Tesla\"\n",
    "    elif i.equals(gm) == True:\n",
    "        title = \"General Motors\"\n",
    "    elif i.equals(s) == True:\n",
    "        title = \"Shell\"\n",
    "    elif i.equals(x) == True:\n",
    "        title = \"Exxon Mobile\"\n",
    "        \n",
    "    axs.plot(dates, i['Close'], label = title)\n",
    "\n",
    "\n",
    "for label in axs.get_xticklabels():\n",
    "    label.set_rotation(40)\n",
    "    label.set_horizontalalignment('right')\n",
    "plt.xlabel('Year', size = 13)\n",
    "plt.ylabel('Closing Prices', size = 13)\n",
    "\n",
    "plt.legend()\n",
    "plt.show()"
   ]
  },
  {
   "cell_type": "code",
   "execution_count": null,
   "metadata": {},
   "outputs": [],
   "source": [
    "#Normalization\n",
    "fig, axs = plt.subplots()\n",
    "from pylab import rcParams\n",
    "rcParams['figure.figsize'] = 13,10\n",
    "for i in stocks:\n",
    "    title = \"\"\n",
    "    if i.equals(google) == True:\n",
    "        title = \"Google\"\n",
    "    elif i.equals(apple) == True:\n",
    "        title = \"Apple\"\n",
    "    elif i.equals(ts) == True:\n",
    "        title = \"Tesla\"\n",
    "    elif i.equals(gm) == True:\n",
    "        title = \"General Motors\"\n",
    "    elif i.equals(s) == True:\n",
    "        title = \"Shell\"\n",
    "    elif i.equals(x) == True:\n",
    "        title = \"Exxon Mobile\"\n",
    "        \n",
    "    axs.plot(dates, i['Close']/i['Close'].at[0], label = title)\n",
    "\n",
    "\n",
    "for label in axs.get_xticklabels():\n",
    "    label.set_rotation(40)\n",
    "    label.set_horizontalalignment('right')\n",
    "plt.xlabel('Year', size = 13)\n",
    "plt.ylabel('Normalized Closing Prices', size = 13)\n",
    "plt.legend()\n",
    "plt.show()"
   ]
  },
  {
   "cell_type": "markdown",
   "metadata": {},
   "source": [
    "# Porftolio Optimization"
   ]
  },
  {
   "cell_type": "markdown",
   "metadata": {},
   "source": [
    "## All six Stocks Return"
   ]
  },
  {
   "cell_type": "code",
   "execution_count": 1,
   "metadata": {},
   "outputs": [
    {
     "ename": "NameError",
     "evalue": "name 'spy' is not defined",
     "output_type": "error",
     "traceback": [
      "\u001b[1;31m---------------------------------------------------------------------------\u001b[0m",
      "\u001b[1;31mNameError\u001b[0m                                 Traceback (most recent call last)",
      "\u001b[1;32m<ipython-input-1-371a03450c6c>\u001b[0m in \u001b[0;36m<module>\u001b[1;34m\u001b[0m\n\u001b[0;32m      1\u001b[0m \u001b[0mrf\u001b[0m \u001b[1;33m=\u001b[0m \u001b[1;36m0.0094\u001b[0m\u001b[1;33m\u001b[0m\u001b[1;33m\u001b[0m\u001b[0m\n\u001b[0;32m      2\u001b[0m \u001b[1;33m\u001b[0m\u001b[0m\n\u001b[1;32m----> 3\u001b[1;33m \u001b[0mrm\u001b[0m \u001b[1;33m=\u001b[0m \u001b[0mspy\u001b[0m\u001b[1;33m[\u001b[0m\u001b[1;34m'Close'\u001b[0m\u001b[1;33m]\u001b[0m\u001b[1;33m.\u001b[0m\u001b[0mpct_change\u001b[0m\u001b[1;33m(\u001b[0m\u001b[1;36m1\u001b[0m\u001b[1;33m)\u001b[0m\u001b[1;33m.\u001b[0m\u001b[0mmean\u001b[0m\u001b[1;33m(\u001b[0m\u001b[1;33m)\u001b[0m \u001b[1;33m*\u001b[0m\u001b[1;36m12\u001b[0m\u001b[1;33m\u001b[0m\u001b[1;33m\u001b[0m\u001b[0m\n\u001b[0m\u001b[0;32m      4\u001b[0m \u001b[0mprint\u001b[0m\u001b[1;33m(\u001b[0m\u001b[0mrm\u001b[0m\u001b[1;33m)\u001b[0m\u001b[1;33m\u001b[0m\u001b[1;33m\u001b[0m\u001b[0m\n\u001b[0;32m      5\u001b[0m \u001b[1;33m\u001b[0m\u001b[0m\n",
      "\u001b[1;31mNameError\u001b[0m: name 'spy' is not defined"
     ]
    }
   ],
   "source": [
    "rf = 0.0094\n",
    "\n",
    "rm = spy['Close'].pct_change(1).mean() *12\n",
    "print(rm)\n",
    "\n",
    "returns_p1 = {\"Google\": [], \"Apple\": [], \"General Motors\": [], \"Tesla\": [], \"Shell\": [], \"Exxon\": []}\n",
    "\n",
    "returns_p1[\"Google\"] = rf + betas[\"Google\"]*(rm-rf)\n",
    "returns_p1[\"Apple\"] = rf + betas[\"Apple\"]*(rm-rf)\n",
    "returns_p1[\"General Motors\"] = rf + betas[\"General Motors\"]*(rm-rf)\n",
    "returns_p1[\"Tesla\"] = rf + betas[\"Tesla\"]*(rm-rf) \n",
    "returns_p1[\"Shell\"] = rf + betas[\"Shell\"]*(rm-rf)\n",
    "returns_p1[\"Exxon\"] = rf + betas[\"Exxon\"]*(rm-rf)\n",
    "\n",
    "returns_p1\n",
    "\n",
    "sums = 0 \n",
    "for i in returns_p1.keys():\n",
    "    sums += 0.167*returns_p1[i]\n",
    "    \n",
    "print(sums)"
   ]
  },
  {
   "cell_type": "code",
   "execution_count": null,
   "metadata": {},
   "outputs": [],
   "source": [
    "rf = 0.0094\n",
    "\n",
    "rm = spy['Close'].pct_change(1).mean() *12\n",
    "print(rm)\n",
    "\n",
    "returns_p2 = {\"Google\": [], \"Apple\": [], \"General Motors\": [], \"Tesla\": []}\n",
    "\n",
    "returns_p2[\"Google\"] = rf + betas[\"Google\"]*(rm-rf)\n",
    "returns_p2[\"Apple\"] = rf + betas[\"Apple\"]*(rm-rf)\n",
    "returns_p2[\"General Motors\"] = rf + betas[\"General Motors\"]*(rm-rf)\n",
    "returns_p2[\"Tesla\"] = rf + betas[\"Tesla\"]*(rm-rf) \n",
    "\n",
    "returns_p2\n",
    "\n",
    "sums = 0 \n",
    "for i in returns_p2.keys():\n",
    "    sums += 0.25*returns_p2[i]\n",
    "    \n",
    "print(sums)"
   ]
  },
  {
   "cell_type": "code",
   "execution_count": null,
   "metadata": {},
   "outputs": [],
   "source": [
    "rf = 0.0094\n",
    "\n",
    "rm = spy['Close'].pct_change(1).mean() *12\n",
    "print(rm)\n",
    "\n",
    "returns_p3 = {\"Google\": [], \"Apple\": [], \"Tesla\": []}\n",
    "\n",
    "returns_p3[\"Google\"] = rf + betas[\"Google\"]*(rm-rf)\n",
    "returns_p3[\"Apple\"] = rf + betas[\"Apple\"]*(rm-rf)\n",
    "returns_p3[\"Tesla\"] = rf + betas[\"Tesla\"]*(rm-rf) \n",
    "\n",
    "\n",
    "returns_p3\n",
    "\n",
    "sums = 0 \n",
    "for i in returns_p3.keys():\n",
    "    sums += 0.3333*returns_p3[i]\n",
    "    \n",
    "print(sums)"
   ]
  },
  {
   "cell_type": "code",
   "execution_count": null,
   "metadata": {},
   "outputs": [],
   "source": [
    "\n",
    "\n",
    "rm = spy['Close'].pct_change(1).mean() *12\n",
    "print(rm)\n",
    "\n",
    "returns_p4= {\"Google\": [], \"Apple\": [], \"General Motors\": [], \"Tesla\": [], \"Shell\": [], \"Exxon\": []}\n",
    "\n",
    "returns_p4[\"Google\"] = rf + betas[\"Google\"]*(rm-rf)\n",
    "returns_p4[\"Apple\"] = rf + betas[\"Apple\"]*(rm-rf)\n",
    "returns_p4[\"General Motors\"] = rf + betas[\"General Motors\"]*(rm-rf)\n",
    "returns_p4[\"Tesla\"] = rf + betas[\"Tesla\"]*(rm-rf) \n",
    "returns_p4[\"Shell\"] = rf + betas[\"Shell\"]*(rm-rf)\n",
    "returns_p4[\"Exxon\"] = rf + betas[\"Exxon\"]*(rm-rf)\n",
    "\n",
    "returns_p4\n",
    "\n",
    "weights = {\"Google\": [], \"Apple\": [], \"General Motors\": [], \"Tesla\": [], \"Shell\": [], \"Exxon\": []}\n",
    "\n",
    "sums = 0 \n",
    "for i in returns_p4.keys():\n",
    "    sums += returns_p4[i]\n",
    "\n",
    "for i in returns_p4.keys():\n",
    "    weights[i] = returns_p4[i]/sums\n",
    "weights\n",
    "\n",
    "sums = 0\n",
    "for i in returns_p4.keys():\n",
    "    sums += weights[i]*returns_p4[i]\n",
    "    \n",
    "print(sums)\n",
    "weights"
   ]
  },
  {
   "cell_type": "code",
   "execution_count": null,
   "metadata": {},
   "outputs": [],
   "source": [
    "\n",
    "rm = spy['Close'].pct_change(1).mean() *12\n",
    "print(rm)\n",
    "\n",
    "returns_p5= {\"Google\": [], \"Apple\": [], \"Tesla\": []}\n",
    "\n",
    "returns_p5[\"Google\"] = rf + betas[\"Google\"]*(rm-rf)\n",
    "returns_p5[\"Apple\"] = rf + betas[\"Apple\"]*(rm-rf)\n",
    "returns_p5[\"Tesla\"] = rf + betas[\"Tesla\"]*(rm-rf) \n",
    "\n",
    "\n",
    "returns_p5\n",
    "\n",
    "weights1 = {\"Google\": [], \"Apple\": [], \"Tesla\": []}\n",
    "\n",
    "sums = 0 \n",
    "for i in returns_p5.keys():\n",
    "    sums += returns_p5[i]\n",
    "\n",
    "for i in returns_p5.keys():\n",
    "    weights1[i] = returns_p5[i]/sums\n",
    "print(weights1)\n",
    "\n",
    "sums = 0\n",
    "for i in returns_p5.keys():\n",
    "    sums += weights1[i]*returns_p5[i]\n",
    "    \n",
    "print(sums)"
   ]
  },
  {
   "cell_type": "code",
   "execution_count": null,
   "metadata": {},
   "outputs": [],
   "source": [
    "print(\"stock  rate of return.....P1\")\n",
    "for srock, rateofreturn in returns_p1.items():\n",
    "    print('{} {}'.format(srock, rateofreturn))"
   ]
  },
  {
   "cell_type": "code",
   "execution_count": null,
   "metadata": {},
   "outputs": [],
   "source": [
    "alphas"
   ]
  },
  {
   "cell_type": "code",
   "execution_count": null,
   "metadata": {},
   "outputs": [],
   "source": [
    "betas"
   ]
  },
  {
   "cell_type": "code",
   "execution_count": null,
   "metadata": {},
   "outputs": [],
   "source": [
    "actuals"
   ]
  },
  {
   "cell_type": "code",
   "execution_count": null,
   "metadata": {},
   "outputs": [],
   "source": [
    "betas"
   ]
  },
  {
   "cell_type": "code",
   "execution_count": null,
   "metadata": {},
   "outputs": [],
   "source": []
  }
 ],
 "metadata": {
  "kernelspec": {
   "display_name": "Python 3",
   "language": "python",
   "name": "python3"
  },
  "language_info": {
   "codemirror_mode": {
    "name": "ipython",
    "version": 3
   },
   "file_extension": ".py",
   "mimetype": "text/x-python",
   "name": "python",
   "nbconvert_exporter": "python",
   "pygments_lexer": "ipython3",
   "version": "3.7.4"
  }
 },
 "nbformat": 4,
 "nbformat_minor": 2
}
